{
 "cells": [
  {
   "cell_type": "code",
   "execution_count": 15,
   "metadata": {},
   "outputs": [],
   "source": [
    "import matplotlib.pyplot as plt\n",
    "import pandas as pd\n",
    "import numpy as np\n",
    "import scipy as sp\n",
    "import quandl\n",
    "import functools\n",
    "import seaborn as sns\n",
    "import plotnine as p9\n",
    "import math\n",
    "import datetime\n",
    "import statsmodels.formula.api as sm\n",
    "import statsmodels\n",
    "import statsmodels.api as smapi\n",
    "from statsmodels.regression.rolling import RollingOLS\n",
    "import hmmlearn\n",
    "from hmmlearn.hmm import GaussianHMM\n",
    "import warnings\n",
    "import os\n",
    "import matplotlib.dates as mdates\n",
    "import random"
   ]
  },
  {
   "cell_type": "markdown",
   "metadata": {},
   "source": [
    "# A Breif Look into of Goofspiel Strategy"
   ]
  },
  {
   "cell_type": "markdown",
   "metadata": {},
   "source": [
    "Goofspiel, aka the *game of pure strategy* is a zero sum card game between two players with symmetric information. The game was invented by mathematician Meril Flood in the 1930s. This game is an example of repeated simultaneous decision making.\n",
    "\n",
    "The gameplay is rather simple. A standard deck of 52 cards is divided into it's four suits. One suit is given to each player, one is discarded, and the last is shuffled randomly and placed face down between the two players, this suit serves as the draw pile. At the start of each turn, a \"value\" card $(A = 1,2 = 2, \\dots Q = 12, K = 13)$ is flipped face up. Then each player simultainously \"bids\" on the value card by placing a card from their hand face down, then both players reveal their cards. Whichever player plays the higher card claims the value card, and both bid cards are discarded. After the conclusion of the 13th round, the value cards claimed by each player are summed up and whichever player with the highest score wins. \n",
    "\n",
    "Many strategies leverage random, deterministic, or learning strategies.\n",
    "\n",
    "### Random Strategy\n",
    "Random play is exactly what it sounds like. A player running a random strategy will play their bid cards randomly, with no regard for the value card at play. \n",
    "\n",
    "### Deterministic Strategy     \n",
    "A deterministic strategy uses a static set of rules for play. A player running a basic deterministic strategy will always bid the same card in response to a certain value card. One common deterministic strategy is the matching strategy, in which a player will simply match the value card each time they bid. For example if the current upturned value card is a 7, a player running a matching strategy will bid a 7. Other common deterministic strategies are varients on the matching strategy. One example is the value card + n strategy, in which a player will play a card n higher than value card. If the value card + n is greater than 13, the player running value card + n will then throw off their lowest card. \n",
    "\n",
    " Deterministic strategies are very easy to play against. If you know your opponent is running the matching strategy, you can simply play the value card + 1 strategy to win every card except the king. Giving a final score of 78 to 13. Two players running deterministic strategies are never in Nash Equilibrium. If both players are aware the other is running a deterministic strategy, each player will continue up bidding their strategy until they eventually realize they can improve their results by ducking certain tricks. However if both players realize this, the game eventually devolves into random play. Each player trying to get the edge on the other by playing unpredictably.   \n",
    "\n",
    "The matching strategy has been proven (Ross, Sheldon M. (September 1971). *Goofspiel -- The Game of Pure Strategy*) to be the optimal strategy into random play. Other upcard + n strategies perform better into random play the closer n is to 0. \n",
    "        \n",
    "    \n",
    "### Learning Strategies \n",
    "Learning strategies observe their opponent's play, and each play is determined by the opponents previous play. Naturally learning strategies perform quite admirably into deterministic strategies, they are consistantly able to upbid their opponent by exactly one card, and thus have very high winrates into deterministic strategies. They do not perform as well into random strategies — however — as there is nothing to learn from the opponent's play. In fact, learning strategies into random strategies are essentially just random strategies with slightly worse than random card selection (essentially random + 1). \n",
    "\n",
    "\n",
    "## Emperical Analysis \n",
    "we compare the performace of these strategies into one another by observing their winrates. We can compare two strategies relative performances by either looking at their average scores, or their winrates. Since I am more interested in winning and losing, I will look at winrates"
   ]
  },
  {
   "cell_type": "code",
   "execution_count": 211,
   "metadata": {},
   "outputs": [],
   "source": [
    "def run_strategy(strat_a, strat_b):\n",
    "    cards = []\n",
    "    middle_cards = []\n",
    "    a_cards = []\n",
    "    b_cards = []\n",
    "    for i in range(0,13):\n",
    "        cards.append(i+1)\n",
    "    a_score = 0\n",
    "    b_score = 0\n",
    "    middle_score = 0\n",
    "    for i in range(0,13):\n",
    "        middle_card = draw_card(cards)\n",
    "        middle_score = middle_card\n",
    "        a = strat_a(middle_card,middle_cards,b_cards,a_cards)\n",
    "        b = strat_b(middle_card,middle_cards,a_cards,b_cards)\n",
    "        if (a > b):\n",
    "            a_score = a_score + middle_score\n",
    "            middle_score = 0\n",
    "        elif (b > a):\n",
    "            b_score = b_score + middle_card\n",
    "            middle_score = 0\n",
    "        a_cards.append(a)\n",
    "        b_cards.append(b)\n",
    "        middle_cards.append(middle_card)\n",
    "        cards = list_subtract(cards,[middle_card])\n",
    "    return (a_score,b_score)\n",
    "            \n",
    "def get_winrate(strat_a,strat_b):\n",
    "    a_wins = 0\n",
    "    b_wins = 0\n",
    "    ties = 0\n",
    "    n = 1000\n",
    "    a_avg = 0\n",
    "    b_avg = 0\n",
    "    for i in range(0,1000):\n",
    "        (a,b) = run_strategy(strat_a,strat_b)\n",
    "        a_avg = a_avg + a\n",
    "        b_avg = b_avg + b\n",
    "        if (b > a):\n",
    "            b_wins = b_wins + 1\n",
    "        elif (a > b):\n",
    "            a_wins = a_wins + 1\n",
    "        else:\n",
    "            a_wins = a_wins + 0.5\n",
    "    return a_wins/n\n",
    "    \n",
    "def base_winrate_table(names,list_of_strats):\n",
    "    basic_strats = [det_0,det_1,learning,random_strat]\n",
    "    basic_names = ['Matching','Upcard + 1', 'Basic Learning', 'Random']\n",
    "    df = pd.DataFrame(index = range(0,len(names)))\n",
    "    for i in basic_names:\n",
    "        df[i] = np.zeros(len(names))\n",
    "    for i in range(0,len(names)):\n",
    "        for j in range(0,4):\n",
    "            df[basic_names[j]][i] = get_winrate(list_of_strats[i],basic_strats[j])\n",
    "            \n",
    "    df.index = names\n",
    "\n",
    "    return df\n",
    "        \n",
    "        \n",
    "def winrate_table(strats,strat_functions):\n",
    "    df = pd.DataFrame(index = range(0,len(strats)))\n",
    "    for i in strats:\n",
    "        df[i] = np.zeros(len(strats))\n",
    "\n",
    "    for i in range(0,len(strats)):\n",
    "        for j in range(0,len(strat_functions)):\n",
    "            df[strats[i]][j] = get_winrate(strat_functions[j],strat_functions[i])\n",
    "    df.index = strats\n",
    "    return df\n",
    "    \n",
    "def draw_card(cards):\n",
    "    return cards[random.randint(0,len(cards) -1)]\n",
    "    \n",
    "def list_subtract(x,y):\n",
    "    return [item for item in x if item not in y]  \n",
    "\n",
    "def minus(x,y):\n",
    "    return list(pd.Series(x,dtype = 'int') - pd.Series(y,dtype = 'int'))"
   ]
  },
  {
   "cell_type": "code",
   "execution_count": 247,
   "metadata": {},
   "outputs": [],
   "source": [
    "#Basic Strategies \n",
    "def deterministic(current_card,middle_cards,enemy_cards,player_cards, n):\n",
    "    cards = []\n",
    "    for i in range(0,13):\n",
    "        cards.append(i+1)\n",
    "    hand = list_subtract(cards,player_cards)\n",
    "    deck = list_subtract(cards,middle_cards)\n",
    "    if(current_card + n <= 13) and (current_card + n in hand):\n",
    "        return current_card + n\n",
    "    elif (current_card + n > 13):\n",
    "        return hand[0]\n",
    "    else:\n",
    "        return hand[deck.index(current_card)]\n",
    "            \n",
    "\n",
    "def det_1(current_card,middle_cards,enemy_cards,player_cards):\n",
    "    res = deterministic(current_card,middle_cards,enemy_cards,player_cards,1)\n",
    "    #print(current_card,res)\n",
    "    return res\n",
    "\n",
    "def det_0(current_card,middle_cards,enemy_cards,player_cards):\n",
    "    return deterministic(current_card,middle_cards,enemy_cards,player_cards,0)\n",
    "    \n",
    "def learning(current_card,middle_cards,enemy_cards,player_cards):\n",
    "    if(len(middle_cards) > 0):\n",
    "        n_est = enemy_cards[-1] - middle_cards[-1] \n",
    "        #print(n_est,current_card)\n",
    "        if(n_est < 0):\n",
    "            n_est = -1\n",
    "        return deterministic(current_card,middle_cards,enemy_cards,player_cards,n_est + 1)\n",
    "    else:\n",
    "        cards = []\n",
    "        for i in range(0,13):\n",
    "            cards.append(i+1)\n",
    "        hand = list_subtract(cards,player_cards)\n",
    "        return hand[0]\n",
    "    \n",
    "def random_strat(current_card,middle_cards,enemy_cards,player_cards):\n",
    "    cards = []\n",
    "    for i in range(0,13):\n",
    "        cards.append(i+1)\n",
    "    avail_cards = list_subtract(cards,player_cards)\n",
    "    return draw_card(avail_cards)"
   ]
  },
  {
   "cell_type": "code",
   "execution_count": 165,
   "metadata": {},
   "outputs": [],
   "source": []
  },
  {
   "cell_type": "code",
   "execution_count": 248,
   "metadata": {},
   "outputs": [
    {
     "data": {
      "text/html": [
       "<div>\n",
       "<style scoped>\n",
       "    .dataframe tbody tr th:only-of-type {\n",
       "        vertical-align: middle;\n",
       "    }\n",
       "\n",
       "    .dataframe tbody tr th {\n",
       "        vertical-align: top;\n",
       "    }\n",
       "\n",
       "    .dataframe thead th {\n",
       "        text-align: right;\n",
       "    }\n",
       "</style>\n",
       "<table border=\"1\" class=\"dataframe\">\n",
       "  <thead>\n",
       "    <tr style=\"text-align: right;\">\n",
       "      <th></th>\n",
       "      <th>Matching Strategy</th>\n",
       "      <th>Upcard + 1</th>\n",
       "      <th>Learning</th>\n",
       "      <th>Random</th>\n",
       "    </tr>\n",
       "  </thead>\n",
       "  <tbody>\n",
       "    <tr>\n",
       "      <th>Matching Strategy</th>\n",
       "      <td>0.500</td>\n",
       "      <td>0.000</td>\n",
       "      <td>0.000</td>\n",
       "      <td>0.9650</td>\n",
       "    </tr>\n",
       "    <tr>\n",
       "      <th>Upcard + 1</th>\n",
       "      <td>1.000</td>\n",
       "      <td>0.500</td>\n",
       "      <td>0.000</td>\n",
       "      <td>0.8945</td>\n",
       "    </tr>\n",
       "    <tr>\n",
       "      <th>Learning</th>\n",
       "      <td>1.000</td>\n",
       "      <td>1.000</td>\n",
       "      <td>0.500</td>\n",
       "      <td>0.6640</td>\n",
       "    </tr>\n",
       "    <tr>\n",
       "      <th>Random</th>\n",
       "      <td>0.034</td>\n",
       "      <td>0.129</td>\n",
       "      <td>0.337</td>\n",
       "      <td>0.5005</td>\n",
       "    </tr>\n",
       "  </tbody>\n",
       "</table>\n",
       "</div>"
      ],
      "text/plain": [
       "                   Matching Strategy  Upcard + 1  Learning  Random\n",
       "Matching Strategy              0.500       0.000     0.000  0.9650\n",
       "Upcard + 1                     1.000       0.500     0.000  0.8945\n",
       "Learning                       1.000       1.000     0.500  0.6640\n",
       "Random                         0.034       0.129     0.337  0.5005"
      ]
     },
     "execution_count": 248,
     "metadata": {},
     "output_type": "execute_result"
    }
   ],
   "source": [
    "strats = ['Matching Strategy','Upcard + 1','Learning','Random']\n",
    "strat_functions = [det_0,det_1,learning,random_strat]\n",
    "df = winrate_table(strats,strat_functions)\n",
    "df"
   ]
  },
  {
   "cell_type": "markdown",
   "metadata": {},
   "source": [
    "so we see random loses to matching which loses to upcard + 1 which both lose to learning. But we see the learning strategy perform poorly against random. This indicates that there is no Nash equilibream using basic strategies, since no matter what you are always inclined to switch to another strategy. So we now try to develop a \"Good\" strategy by taking the good aspects of basic strategies and combining them into a hybrid strategy. \n",
    "\n",
    "We design a more advanced \"hybrid\" strategy that is a combination of deterministic and random. This strategy plays like determinisitc, but  $n \\in \\mathbb{Z}\\cap [-1,2]$ and n is picked randomly. If n = -1, the player will instead play the lowest card in their hand. If the card the player wants to play is not in their hand, they will also play the lowest card in their hand. "
   ]
  },
  {
   "cell_type": "code",
   "execution_count": 259,
   "metadata": {},
   "outputs": [],
   "source": [
    "#advanced strategies\n",
    "\n",
    "def determ_random(current_card,middle_cards,enemy_cards,player_cards):\n",
    "    n = random.randint(-1,3)\n",
    "    if n == -1:\n",
    "        cards = []\n",
    "        for i in range(0,13):\n",
    "            cards.append(i+1)\n",
    "        avail_cards = list_subtract(cards,player_cards)\n",
    "        return avail_cards[0]\n",
    "    else:\n",
    "        return deterministic(current_card,middle_cards,enemy_cards,player_cards,n)\n",
    " \n",
    "#looks at enemy performance over multiple turns instead of most recent\n",
    "def robust_learning(current_card,middle_cards,enemy_cards,player_cards):\n",
    "    residuals = minus(enemy_cards,middle_cards)\n",
    "    if len(residuals) > 0:\n",
    "        total = 0\n",
    "        n = 0\n",
    "        for residual in residuals:\n",
    "            if(abs(residual) < 5):\n",
    "                total = total + residual\n",
    "                n = n + 1\n",
    "        if(n > 0):\n",
    "            mean = total/n\n",
    "            return deterministic(current_card,middle_cards,enemy_cards,player_cards, mean + 1)\n",
    "        \n",
    "    return random_strat(current_card,middle_cards,enemy_cards,player_cards)\n",
    "\n",
    "def mean_learning(current_card,middle_cards,enemy_cards,player_cards):\n",
    "    if len(middle_cards) > 0:\n",
    "        residuals = minus(enemy_cards,middle_cards)\n",
    "        mean = pd.Series(residuals).mean()\n",
    "        return deterministic(current_card,middle_cards,enemy_cards,player_cards, mean + 1) \n",
    "    else:\n",
    "        return det_0(current_card,middle_cards,enemy_cards,player_cards)\n",
    "\n",
    "        \n",
    "\n",
    "def mixed_strategy(current_card,middle_cards,enemy_cards,player_cards):\n",
    "    strat = random.randint(0,1)\n",
    "    if strat == 1:\n",
    "        return mean_learning(current_card,middle_cards,enemy_cards,player_cards)\n",
    "    else:\n",
    "        cards = []\n",
    "        for i in range(0,13):\n",
    "            cards.append(i+1)\n",
    "        hand = list_subtract(cards,player_cards)\n",
    "        deck = list_subtract(cards,middle_cards)\n",
    "        return hand[deck.index(current_card)]\n",
    "\n",
    "#this assumes opponent is either deterministic or random. \n",
    "def pearson_strategy(current_card,middle_cards,enemy_cards,player_cards):\n",
    "    if len(middle_cards) > 2:\n",
    "        correlation = pd.Series(middle_cards).corr(pd.Series(enemy_cards))\n",
    "        if (correlation < 0.2):\n",
    "            return det_0(current_card,middle_cards,enemy_cards,player_cards) #assumes random and plays matching\n",
    "        else:\n",
    "            return mean_learning(current_card,middle_cards,enemy_cards,player_cards)\n",
    "    else: \n",
    "        return learning(current_card,middle_cards,enemy_cards,player_cards)\n",
    "        \n",
    "    \n",
    "def greedy(current_card,middle_cards,enemy_cards,player_cards):\n",
    "    cards = []\n",
    "    for i in range(0,13):\n",
    "        cards.append(i+1)\n",
    "    hand = list_subtract(cards,player_cards)\n",
    "    deck = list_subtract(cards,middle_cards)\n",
    "    if(current_card > 8):\n",
    "        return hand[-1]\n",
    "    else:\n",
    "        return hand[0]"
   ]
  },
  {
   "cell_type": "code",
   "execution_count": 261,
   "metadata": {},
   "outputs": [
    {
     "data": {
      "text/html": [
       "<div>\n",
       "<style scoped>\n",
       "    .dataframe tbody tr th:only-of-type {\n",
       "        vertical-align: middle;\n",
       "    }\n",
       "\n",
       "    .dataframe tbody tr th {\n",
       "        vertical-align: top;\n",
       "    }\n",
       "\n",
       "    .dataframe thead th {\n",
       "        text-align: right;\n",
       "    }\n",
       "</style>\n",
       "<table border=\"1\" class=\"dataframe\">\n",
       "  <thead>\n",
       "    <tr style=\"text-align: right;\">\n",
       "      <th></th>\n",
       "      <th>Matching</th>\n",
       "      <th>Upcard + 1</th>\n",
       "      <th>Basic Learning</th>\n",
       "      <th>Random</th>\n",
       "    </tr>\n",
       "  </thead>\n",
       "  <tbody>\n",
       "    <tr>\n",
       "      <th>Deterministic Random</th>\n",
       "      <td>0.7370</td>\n",
       "      <td>0.5470</td>\n",
       "      <td>0.4055</td>\n",
       "      <td>0.6945</td>\n",
       "    </tr>\n",
       "    <tr>\n",
       "      <th>Robust Learning</th>\n",
       "      <td>0.9975</td>\n",
       "      <td>0.9945</td>\n",
       "      <td>0.3300</td>\n",
       "      <td>0.7390</td>\n",
       "    </tr>\n",
       "    <tr>\n",
       "      <th>Pearson</th>\n",
       "      <td>1.0000</td>\n",
       "      <td>0.8820</td>\n",
       "      <td>0.2975</td>\n",
       "      <td>0.7840</td>\n",
       "    </tr>\n",
       "    <tr>\n",
       "      <th>Greedy</th>\n",
       "      <td>0.1170</td>\n",
       "      <td>0.0825</td>\n",
       "      <td>0.3320</td>\n",
       "      <td>0.8985</td>\n",
       "    </tr>\n",
       "  </tbody>\n",
       "</table>\n",
       "</div>"
      ],
      "text/plain": [
       "                      Matching  Upcard + 1  Basic Learning  Random\n",
       "Deterministic Random    0.7370      0.5470          0.4055  0.6945\n",
       "Robust Learning         0.9975      0.9945          0.3300  0.7390\n",
       "Pearson                 1.0000      0.8820          0.2975  0.7840\n",
       "Greedy                  0.1170      0.0825          0.3320  0.8985"
      ]
     },
     "execution_count": 261,
     "metadata": {},
     "output_type": "execute_result"
    }
   ],
   "source": [
    "strats = [ \"Deterministic Random\", \"Robust Learning\", \"Pearson\",\"Greedy\"]\n",
    "strat_functions = [determ_random, robust_learning,pearson_strategy,greedy]\n",
    "\n",
    "df = base_winrate_table(strats,strat_functions)\n",
    "df"
   ]
  },
  {
   "cell_type": "markdown",
   "metadata": {},
   "source": [
    "As we can see Deterministic random has a positive winrate into all of the previously mentioned strategies. Suprisingly "
   ]
  },
  {
   "cell_type": "code",
   "execution_count": 240,
   "metadata": {},
   "outputs": [
    {
     "name": "stdout",
     "output_type": "stream",
     "text": [
      "1 3\n",
      "1 6\n",
      "1 13\n",
      "-12 7\n",
      "1 9\n",
      "1 2\n",
      "1 10\n",
      "1 5\n",
      "1 4\n",
      "1 1\n",
      "1 8\n",
      "1 12\n"
     ]
    },
    {
     "data": {
      "text/plain": [
       "(54, 11)"
      ]
     },
     "execution_count": 240,
     "metadata": {},
     "output_type": "execute_result"
    }
   ],
   "source": [
    "run_strategy(learning,det_1)"
   ]
  },
  {
   "cell_type": "code",
   "execution_count": 174,
   "metadata": {},
   "outputs": [
    {
     "data": {
      "text/plain": [
       "0.5385"
      ]
     },
     "execution_count": 174,
     "metadata": {},
     "output_type": "execute_result"
    }
   ],
   "source": [
    "get_winrate(determ_random,det_1)"
   ]
  },
  {
   "cell_type": "code",
   "execution_count": 139,
   "metadata": {},
   "outputs": [],
   "source": [
    "cards = []\n",
    "player_cards \n",
    "for i in range(0,13):\n",
    "    cards.append(i+1)\n",
    "avail_cards = list_subtract(cards,player_cards)\n"
   ]
  },
  {
   "cell_type": "code",
   "execution_count": 140,
   "metadata": {},
   "outputs": [
    {
     "data": {
      "text/plain": [
       "[1, 2, 4, 6, 8, 9, 10, 11, 12, 13]"
      ]
     },
     "execution_count": 140,
     "metadata": {},
     "output_type": "execute_result"
    }
   ],
   "source": [
    "avail_cards"
   ]
  },
  {
   "cell_type": "code",
   "execution_count": 181,
   "metadata": {},
   "outputs": [],
   "source": [
    "x = [1,3,3]\n",
    "y = [1,2,3]"
   ]
  },
  {
   "cell_type": "code",
   "execution_count": 182,
   "metadata": {},
   "outputs": [
    {
     "data": {
      "text/plain": [
       "[0, 1, 0]"
      ]
     },
     "execution_count": 182,
     "metadata": {},
     "output_type": "execute_result"
    }
   ],
   "source": []
  },
  {
   "cell_type": "code",
   "execution_count": null,
   "metadata": {},
   "outputs": [],
   "source": []
  }
 ],
 "metadata": {
  "kernelspec": {
   "display_name": "Python 3",
   "language": "python",
   "name": "python3"
  },
  "language_info": {
   "codemirror_mode": {
    "name": "ipython",
    "version": 3
   },
   "file_extension": ".py",
   "mimetype": "text/x-python",
   "name": "python",
   "nbconvert_exporter": "python",
   "pygments_lexer": "ipython3",
   "version": "3.8.3"
  }
 },
 "nbformat": 4,
 "nbformat_minor": 4
}
